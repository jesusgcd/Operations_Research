{
  "nbformat": 4,
  "nbformat_minor": 0,
  "metadata": {
    "colab": {
      "provenance": []
    },
    "kernelspec": {
      "name": "python3",
      "display_name": "Python 3"
    },
    "language_info": {
      "name": "python"
    }
  },
  "cells": [
    {
      "cell_type": "code",
      "execution_count": null,
      "metadata": {
        "id": "sRYJdQa8FfhH"
      },
      "outputs": [],
      "source": [
        "%load_ext rpy2.ipython"
      ]
    },
    {
      "cell_type": "code",
      "source": [
        "%%R\n",
        "# Instalar y cargar lpSolve\n",
        "install.packages(\"lpSolve\")\n",
        "library(lpSolve)"
      ],
      "metadata": {
        "colab": {
          "base_uri": "https://localhost:8080/"
        },
        "id": "xdMVPrroGB3J",
        "outputId": "4271c9b0-4fbb-4780-8c24-596fc81c12ed"
      },
      "execution_count": null,
      "outputs": [
        {
          "output_type": "stream",
          "name": "stderr",
          "text": [
            "WARNING:rpy2.rinterface_lib.callbacks:R[write to console]: Installing package into ‘/usr/local/lib/R/site-library’\n",
            "(as ‘lib’ is unspecified)\n",
            "\n",
            "WARNING:rpy2.rinterface_lib.callbacks:R[write to console]: trying URL 'https://cran.rstudio.com/src/contrib/lpSolve_5.6.22.tar.gz'\n",
            "\n",
            "WARNING:rpy2.rinterface_lib.callbacks:R[write to console]: Content type 'application/x-gzip'\n",
            "WARNING:rpy2.rinterface_lib.callbacks:R[write to console]:  length 467631 bytes (456 KB)\n",
            "\n",
            "WARNING:rpy2.rinterface_lib.callbacks:R[write to console]: =\n",
            "WARNING:rpy2.rinterface_lib.callbacks:R[write to console]: =\n",
            "WARNING:rpy2.rinterface_lib.callbacks:R[write to console]: =\n",
            "WARNING:rpy2.rinterface_lib.callbacks:R[write to console]: =\n",
            "WARNING:rpy2.rinterface_lib.callbacks:R[write to console]: =\n",
            "WARNING:rpy2.rinterface_lib.callbacks:R[write to console]: =\n",
            "WARNING:rpy2.rinterface_lib.callbacks:R[write to console]: =\n",
            "WARNING:rpy2.rinterface_lib.callbacks:R[write to console]: =\n",
            "WARNING:rpy2.rinterface_lib.callbacks:R[write to console]: =\n",
            "WARNING:rpy2.rinterface_lib.callbacks:R[write to console]: =\n",
            "WARNING:rpy2.rinterface_lib.callbacks:R[write to console]: =\n",
            "WARNING:rpy2.rinterface_lib.callbacks:R[write to console]: =\n",
            "WARNING:rpy2.rinterface_lib.callbacks:R[write to console]: =\n",
            "WARNING:rpy2.rinterface_lib.callbacks:R[write to console]: =\n",
            "WARNING:rpy2.rinterface_lib.callbacks:R[write to console]: =\n",
            "WARNING:rpy2.rinterface_lib.callbacks:R[write to console]: =\n",
            "WARNING:rpy2.rinterface_lib.callbacks:R[write to console]: =\n",
            "WARNING:rpy2.rinterface_lib.callbacks:R[write to console]: =\n",
            "WARNING:rpy2.rinterface_lib.callbacks:R[write to console]: =\n",
            "WARNING:rpy2.rinterface_lib.callbacks:R[write to console]: =\n",
            "WARNING:rpy2.rinterface_lib.callbacks:R[write to console]: =\n",
            "WARNING:rpy2.rinterface_lib.callbacks:R[write to console]: =\n",
            "WARNING:rpy2.rinterface_lib.callbacks:R[write to console]: =\n",
            "WARNING:rpy2.rinterface_lib.callbacks:R[write to console]: =\n",
            "WARNING:rpy2.rinterface_lib.callbacks:R[write to console]: =\n",
            "WARNING:rpy2.rinterface_lib.callbacks:R[write to console]: =\n",
            "WARNING:rpy2.rinterface_lib.callbacks:R[write to console]: =\n",
            "WARNING:rpy2.rinterface_lib.callbacks:R[write to console]: =\n",
            "WARNING:rpy2.rinterface_lib.callbacks:R[write to console]: =\n",
            "WARNING:rpy2.rinterface_lib.callbacks:R[write to console]: =\n",
            "WARNING:rpy2.rinterface_lib.callbacks:R[write to console]: =\n",
            "WARNING:rpy2.rinterface_lib.callbacks:R[write to console]: =\n",
            "WARNING:rpy2.rinterface_lib.callbacks:R[write to console]: =\n",
            "WARNING:rpy2.rinterface_lib.callbacks:R[write to console]: =\n",
            "WARNING:rpy2.rinterface_lib.callbacks:R[write to console]: =\n",
            "WARNING:rpy2.rinterface_lib.callbacks:R[write to console]: =\n",
            "WARNING:rpy2.rinterface_lib.callbacks:R[write to console]: =\n",
            "WARNING:rpy2.rinterface_lib.callbacks:R[write to console]: =\n",
            "WARNING:rpy2.rinterface_lib.callbacks:R[write to console]: =\n",
            "WARNING:rpy2.rinterface_lib.callbacks:R[write to console]: =\n",
            "WARNING:rpy2.rinterface_lib.callbacks:R[write to console]: =\n",
            "WARNING:rpy2.rinterface_lib.callbacks:R[write to console]: =\n",
            "WARNING:rpy2.rinterface_lib.callbacks:R[write to console]: =\n",
            "WARNING:rpy2.rinterface_lib.callbacks:R[write to console]: =\n",
            "WARNING:rpy2.rinterface_lib.callbacks:R[write to console]: =\n",
            "WARNING:rpy2.rinterface_lib.callbacks:R[write to console]: =\n",
            "WARNING:rpy2.rinterface_lib.callbacks:R[write to console]: =\n",
            "WARNING:rpy2.rinterface_lib.callbacks:R[write to console]: =\n",
            "WARNING:rpy2.rinterface_lib.callbacks:R[write to console]: =\n",
            "WARNING:rpy2.rinterface_lib.callbacks:R[write to console]: =\n",
            "WARNING:rpy2.rinterface_lib.callbacks:R[write to console]: \n",
            "\n",
            "WARNING:rpy2.rinterface_lib.callbacks:R[write to console]: downloaded 456 KB\n",
            "\n",
            "\n",
            "WARNING:rpy2.rinterface_lib.callbacks:R[write to console]: \n",
            "\n",
            "WARNING:rpy2.rinterface_lib.callbacks:R[write to console]: \n",
            "WARNING:rpy2.rinterface_lib.callbacks:R[write to console]: The downloaded source packages are in\n",
            "\t‘/tmp/Rtmp9V02Xg/downloaded_packages’\n",
            "WARNING:rpy2.rinterface_lib.callbacks:R[write to console]: \n",
            "WARNING:rpy2.rinterface_lib.callbacks:R[write to console]: \n",
            "\n"
          ]
        }
      ]
    },
    {
      "cell_type": "code",
      "source": [
        "%%R\n",
        "# Definir la matriz de costos de transporte correctamente\n",
        "cost_matrix <- data.frame(\n",
        "  row.names = c(\"Centro1\", \"Centro2\", \"Centro3\", \"Demanda\"), # Nombres de filas\n",
        "  TiendaA = c(10, 12, 4, 5),    # Costos desde cada centro hacia Tienda A\n",
        "  TiendaB = c(2, 7, 14, 15),    # Costos desde cada centro hacia Tienda B\n",
        "  TiendaC = c(20, 39, 16, 15),  # Costos desde cada centro hacia Tienda C\n",
        "  TiendaD = c(11, 20, 18, 15),  # Costos desde cada centro hacia Tienda D\n",
        "  oferta = c(15, 25, 10, 50)    # Oferta total de cada centro y Demanda\n",
        ")\n",
        "\n",
        "# Mostrar la matriz de costos\n",
        "print(\"Matriz de Costos:\")\n",
        "print(cost_matrix)\n",
        "\n",
        "# Separar la oferta y la demanda\n",
        "oferta <- cost_matrix$oferta[1:3]    # Ofertas de los centros\n",
        "demanda <- as.numeric(cost_matrix[\"Demanda\", 1:4])  # Demanda por tienda\n",
        "\n",
        "# Mostrar ofertas y demandas\n",
        "print(\"Ofertas:\")\n",
        "print(oferta)\n",
        "\n",
        "print(\"Demandas:\")\n",
        "print(demanda)\n",
        "\n",
        "# Verificar que la suma de ofertas sea igual a la suma de demandas\n",
        "if (sum(oferta) != sum(demanda)) {\n",
        "  stop(\"La suma de ofertas no coincide con la suma de demandas.\")\n",
        "}\n",
        "\n",
        "# Definir la matriz de costos sin la columna de oferta y sin la fila de demanda\n",
        "costos <- as.matrix(cost_matrix[1:3, 1:4]) # Filas Centro1, Centro2, Centro3; Columnas TiendaA-D\n",
        "\n",
        "# Asignar nombres a filas y columnas\n",
        "rownames(costos) <- rownames(cost_matrix)[1:3]\n",
        "colnames(costos) <- colnames(cost_matrix)[1:4]\n",
        "\n",
        "# Mostrar la matriz de costos preparada\n",
        "print(\"Matriz de Costos Preparada:\")\n",
        "print(costos)\n",
        "\n",
        "# Resolver el problema de transporte\n",
        "transporte_sol <- lp.transport(\n",
        "  costos,                # Matriz de costos\n",
        "  \"min\",                 # Dirección: minimizar\n",
        "  rep(\"=\", length(oferta)),  # Restricciones de oferta\n",
        "  oferta,                # Valores de oferta\n",
        "  rep(\"=\", length(demanda)), # Restricciones de demanda\n",
        "  demanda                # Valores de demanda\n",
        ")\n",
        "\n",
        "# Verificar y mostrar la solución\n",
        "if (transporte_sol$status == 0) {\n",
        "  cat(\"Solución óptima encontrada.\\n\")\n",
        "  print(\"Asignaciones:\")\n",
        "  print(transporte_sol$solution)\n",
        "  cat(\"Costo total mínimo:\", transporte_sol$objval, \"\\n\")\n",
        "} else {\n",
        "  cat(\"No se encontró una solución óptima.\\n\")\n",
        "}\n"
      ],
      "metadata": {
        "colab": {
          "base_uri": "https://localhost:8080/"
        },
        "id": "kVIQ8MjmGdQR",
        "outputId": "010b773f-3330-4dc1-d137-0e333ea14ad2"
      },
      "execution_count": null,
      "outputs": [
        {
          "output_type": "stream",
          "name": "stdout",
          "text": [
            "[1] \"Matriz de Costos:\"\n",
            "        TiendaA TiendaB TiendaC TiendaD oferta\n",
            "Centro1      10       2      20      11     15\n",
            "Centro2      12       7      39      20     25\n",
            "Centro3       4      14      16      18     10\n",
            "Demanda       5      15      15      15     50\n",
            "[1] \"Ofertas:\"\n",
            "[1] 15 25 10\n",
            "[1] \"Demandas:\"\n",
            "[1]  5 15 15 15\n",
            "[1] \"Matriz de Costos Preparada:\"\n",
            "        TiendaA TiendaB TiendaC TiendaD\n",
            "Centro1      10       2      20      11\n",
            "Centro2      12       7      39      20\n",
            "Centro3       4      14      16      18\n",
            "Solución óptima encontrada.\n",
            "[1] \"Asignaciones:\"\n",
            "     [,1] [,2] [,3] [,4]\n",
            "[1,]    0    0    5   10\n",
            "[2,]    5   15    0    5\n",
            "[3,]    0    0   10    0\n",
            "Costo total mínimo: 635 \n"
          ]
        }
      ]
    },
    {
      "cell_type": "code",
      "source": [],
      "metadata": {
        "id": "t7zcKSz9HH4y"
      },
      "execution_count": null,
      "outputs": []
    }
  ]
}